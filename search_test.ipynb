{
 "metadata": {
  "language_info": {
   "codemirror_mode": {
    "name": "ipython",
    "version": 3
   },
   "file_extension": ".py",
   "mimetype": "text/x-python",
   "name": "python",
   "nbconvert_exporter": "python",
   "pygments_lexer": "ipython3",
   "version": "3.6.6"
  },
  "orig_nbformat": 2,
  "kernelspec": {
   "name": "python366jvsc74a57bd0963057f0eba1a5a251bf7eb960e94bec1f857b88bb930f61be4f6febcb66c561",
   "display_name": "Python 3.6.6 64-bit ('venv')"
  },
  "metadata": {
   "interpreter": {
    "hash": "963057f0eba1a5a251bf7eb960e94bec1f857b88bb930f61be4f6febcb66c561"
   }
  }
 },
 "nbformat": 4,
 "nbformat_minor": 2,
 "cells": [
  {
   "cell_type": "code",
   "execution_count": 6,
   "metadata": {},
   "outputs": [],
   "source": [
    "import json\n",
    "import os\n",
    "import pickle\n",
    "\n",
    "import gensim\n",
    "import numpy as np\n",
    "import pandas as pd\n",
    "import requests\n",
    "import string\n",
    "\n",
    "from scipy.spatial import distance\n",
    "from api.features import TextExtractor, ImageExtractor, SentenceVectorizer\n",
    "\n",
    "from tqdm import tqdm\n",
    "\n",
    "os.environ['CUDA_VISIBLE_DEVICES'] = '2'"
   ]
  },
  {
   "cell_type": "code",
   "execution_count": 10,
   "metadata": {},
   "outputs": [],
   "source": [
    "db_filename = os.path.join('api', 'images', 'db.json')\n",
    "\n",
    "db = {}\n",
    "with open(db_filename, 'r') as f:\n",
    "    db = json.load(f)\n",
    "    db = db['_default']"
   ]
  },
  {
   "cell_type": "code",
   "execution_count": 11,
   "metadata": {},
   "outputs": [
    {
     "output_type": "execute_result",
     "data": {
      "text/plain": [
       "                          title      id                                media\n",
       "1                    Num🅱er One  6tehbc   https://i.redd.it/7wgs4dkiihfz.png\n",
       "2                       Got ‘em  8bse8k  https://i.redd.it/65bzzioisir01.jpg\n",
       "3                          50-0  6we7gp   https://i.redd.it/19c4ggoz0ciz.png\n",
       "4                         Allow  7qbcqw  https://i.redd.it/qt5p8ozio0a01.png\n",
       "5                *mild concern*  7szw80  https://i.redd.it/1cudu2jlgac01.jpg\n",
       "6     I would kill myself again  7nxaqq  https://i.redd.it/cqtircwmtw701.png\n",
       "7                    Conspiracy  7ep89z   https://i.redd.it/9gx2gd66ehzz.jpg\n",
       "8             Justin Timberlake  7vbgih  https://i.redd.it/qq501hb3yae01.jpg\n",
       "9                         Lit 🔥  6c13dg   https://i.redd.it/1zb3bomchdyy.jpg\n",
       "10  Improvise. Adapt. Overcome.  74fa93   https://i.redd.it/ypelzg7uwzpz.jpg"
      ],
      "text/html": "<div>\n<style scoped>\n    .dataframe tbody tr th:only-of-type {\n        vertical-align: middle;\n    }\n\n    .dataframe tbody tr th {\n        vertical-align: top;\n    }\n\n    .dataframe thead th {\n        text-align: right;\n    }\n</style>\n<table border=\"1\" class=\"dataframe\">\n  <thead>\n    <tr style=\"text-align: right;\">\n      <th></th>\n      <th>title</th>\n      <th>id</th>\n      <th>media</th>\n    </tr>\n  </thead>\n  <tbody>\n    <tr>\n      <th>1</th>\n      <td>Num🅱er One</td>\n      <td>6tehbc</td>\n      <td>https://i.redd.it/7wgs4dkiihfz.png</td>\n    </tr>\n    <tr>\n      <th>2</th>\n      <td>Got ‘em</td>\n      <td>8bse8k</td>\n      <td>https://i.redd.it/65bzzioisir01.jpg</td>\n    </tr>\n    <tr>\n      <th>3</th>\n      <td>50-0</td>\n      <td>6we7gp</td>\n      <td>https://i.redd.it/19c4ggoz0ciz.png</td>\n    </tr>\n    <tr>\n      <th>4</th>\n      <td>Allow</td>\n      <td>7qbcqw</td>\n      <td>https://i.redd.it/qt5p8ozio0a01.png</td>\n    </tr>\n    <tr>\n      <th>5</th>\n      <td>*mild concern*</td>\n      <td>7szw80</td>\n      <td>https://i.redd.it/1cudu2jlgac01.jpg</td>\n    </tr>\n    <tr>\n      <th>6</th>\n      <td>I would kill myself again</td>\n      <td>7nxaqq</td>\n      <td>https://i.redd.it/cqtircwmtw701.png</td>\n    </tr>\n    <tr>\n      <th>7</th>\n      <td>Conspiracy</td>\n      <td>7ep89z</td>\n      <td>https://i.redd.it/9gx2gd66ehzz.jpg</td>\n    </tr>\n    <tr>\n      <th>8</th>\n      <td>Justin Timberlake</td>\n      <td>7vbgih</td>\n      <td>https://i.redd.it/qq501hb3yae01.jpg</td>\n    </tr>\n    <tr>\n      <th>9</th>\n      <td>Lit 🔥</td>\n      <td>6c13dg</td>\n      <td>https://i.redd.it/1zb3bomchdyy.jpg</td>\n    </tr>\n    <tr>\n      <th>10</th>\n      <td>Improvise. Adapt. Overcome.</td>\n      <td>74fa93</td>\n      <td>https://i.redd.it/ypelzg7uwzpz.jpg</td>\n    </tr>\n  </tbody>\n</table>\n</div>"
     },
     "metadata": {},
     "execution_count": 11
    }
   ],
   "source": [
    "df = pd.DataFrame(db).T\n",
    "df = df.drop(columns=['thumbnail', 'created_utc', 'author', 'ups', 'downs'])\n",
    "df.head(10)"
   ]
  },
  {
   "cell_type": "code",
   "execution_count": 2,
   "metadata": {},
   "outputs": [],
   "source": [
    "# Donwload the full resolution images\n",
    "images_path = os.path.join('api', 'images', 'memes', 'memes')\n",
    "if not os.path.isdir(images_path):\n",
    "    os.makedirs(images_path)\n",
    "\n",
    "# row = df.iloc[0,:]\n",
    "\n",
    "# name, ext = os.path.splitext(row['media'])\n",
    "# print(name, ext)\n",
    "\n",
    "# image_name = os.path.join(images_path, row['id']+ext)\n",
    "# response = requests.get(row['media'])\n",
    "# with open(image_name, 'wb') as f:\n",
    "#     f.write(response.content)"
   ]
  },
  {
   "cell_type": "code",
   "execution_count": 3,
   "metadata": {},
   "outputs": [],
   "source": [
    "te = TextExtractor()\n",
    "ie = ImageExtractor()"
   ]
  },
  {
   "cell_type": "code",
   "execution_count": 9,
   "metadata": {
    "tags": []
   },
   "outputs": [
    {
     "output_type": "stream",
     "name": "stdout",
     "text": [
      "['rleurope 1h ruvis u/batteries-included \"Life Is Now\": Stefan Karl Stefansson, LazyTown Actor And Internet Meme, Free Of Cancer ruv.is']\n(768,)\n"
     ]
    }
   ],
   "source": [
    "def get_ocr_from_id(base_path, img_id, formats=['.png', '.jpg'], text_extractor=TextExtractor()):\n",
    "    img_name = os.path.join(base_path, img_id)\n",
    "    for ext in formats:\n",
    "        if os.path.isfile(img_name+ext):\n",
    "            img_name += ext\n",
    "            break\n",
    "    \n",
    "    embedding, text = text_extractor.to_vec(filename=img_name, method='precise', to_numpy=True, return_text=True)\n",
    "    return embedding, text\n",
    "\n",
    "embedding, text = get_ocr_from_id(base_path=images_path, img_id=df['id'][0], text_extractor=te)\n",
    "print(text)\n",
    "print(embedding.shape)"
   ]
  },
  {
   "cell_type": "code",
   "execution_count": 10,
   "metadata": {},
   "outputs": [],
   "source": [
    "df['title_embedding'] = df['title'].apply(lambda x: te.to_vec(text=x, to_numpy=True))"
   ]
  },
  {
   "cell_type": "code",
   "execution_count": 11,
   "metadata": {},
   "outputs": [
    {
     "output_type": "stream",
     "name": "stderr",
     "text": [
      "100%|██████████| 3226/3226 [22:07<00:00,  2.43it/s]\n"
     ]
    }
   ],
   "source": [
    "df['ocr_text'] = ''\n",
    "df['ocr_embedding'] = df['title_embedding']\n",
    "for idx, row in tqdm(df.iterrows(), total=df.shape[0]):\n",
    "    try:\n",
    "        emb, text = get_ocr_from_id(base_path=images_path, img_id=df['id'][idx], text_extractor=te)\n",
    "        df['ocr_embedding'][idx] = emb\n",
    "        df['ocr_text'][idx] = text\n",
    "    except:\n",
    "        df['ocr_embedding'][idx] *= 0\n",
    "\n",
    "df['fusion_text_embedding'] = df['ocr_embedding'] + df['title_embedding']"
   ]
  },
  {
   "cell_type": "code",
   "execution_count": 10,
   "metadata": {},
   "outputs": [
    {
     "output_type": "stream",
     "name": "stdout",
     "text": [
      "(512,)\n"
     ]
    }
   ],
   "source": [
    "def get_image_vector_from_id(base_path, img_id, formats=['.png', '.jpg'], image_extractor=ImageExtractor()):\n",
    "    img_name = os.path.join(base_path, img_id)\n",
    "    for ext in formats:\n",
    "        if os.path.isfile(img_name+ext):\n",
    "            img_name += ext\n",
    "            break\n",
    "    \n",
    "    embedding = image_extractor.to_vec(filename=img_name, to_numpy=True)\n",
    "    return embedding\n",
    "\n",
    "embedding = get_image_vector_from_id(base_path=images_path, img_id=df['id'][0], image_extractor=ie)\n",
    "print(embedding.shape)"
   ]
  },
  {
   "cell_type": "code",
   "execution_count": 14,
   "metadata": {},
   "outputs": [
    {
     "output_type": "stream",
     "name": "stderr",
     "text": [
      "100%|██████████| 3226/3226 [03:15<00:00, 16.53it/s]\n"
     ]
    }
   ],
   "source": [
    "df['img_embedding'] = ''\n",
    "for idx, row in tqdm(df.iterrows(), total=df.shape[0]):\n",
    "    try:\n",
    "        df['img_embedding'][idx] = get_image_vector_from_id(base_path=images_path, img_id=df['id'][idx], image_extractor=ie)\n",
    "    except:\n",
    "        df['img_embedding'][idx] = np.zeros([512])"
   ]
  },
  {
   "cell_type": "code",
   "execution_count": 25,
   "metadata": {},
   "outputs": [],
   "source": [
    "# print(\"Loading pretrained embeddings\")\n",
    "# pretrained_emb_filename = os.path.join('api','pretrained', 'glove.6B.300d_converted.txt')\n",
    "# model = gensim.models.KeyedVectors.load_word2vec_format(pretrained_emb_filename)\n",
    "# print(\"Model initialized\")"
   ]
  },
  {
   "cell_type": "code",
   "execution_count": 4,
   "metadata": {
    "tags": []
   },
   "outputs": [],
   "source": [
    "vocab_dict = { word : model[word] for word in model.index_to_key }\n",
    "\n",
    "vocab_vectors_filename = os.path.join('api','pretrained', 'glove.6B.300d_dict.pickle')\n",
    "with open(vocab_vectors_filename, 'wb') as f:\n",
    "    pickle.dump(vocab_dict, f, protocol=pickle.HIGHEST_PROTOCOL)"
   ]
  },
  {
   "cell_type": "code",
   "execution_count": 5,
   "metadata": {
    "tags": []
   },
   "outputs": [],
   "source": [
    "vocab_vectors_filename = os.path.join('api','pretrained', 'glove.6B.300d_dict.pickle')\n",
    "with open(vocab_vectors_filename, 'rb') as f:\n",
    "    vocab_dict = pickle.load(f)"
   ]
  },
  {
   "cell_type": "code",
   "execution_count": 8,
   "metadata": {},
   "outputs": [],
   "source": [
    "sv = SentenceVectorizer(filename=vocab_vectors_filename)"
   ]
  },
  {
   "cell_type": "code",
   "execution_count": 38,
   "metadata": {
    "tags": []
   },
   "outputs": [
    {
     "output_type": "stream",
     "name": "stderr",
     "text": [
      "d:\\TSINGHUA\\WEB_IR\\meme-search\\api\\features.py:45: RuntimeWarning: invalid value encountered in true_divide\n  vec /= np.sqrt(vec.dot(vec))\n"
     ]
    },
    {
     "output_type": "execute_result",
     "data": {
      "text/plain": [
       "                          title      id                                media  \\\n",
       "1                    Num🅱er One  6tehbc   https://i.redd.it/7wgs4dkiihfz.png   \n",
       "2                       Got ‘em  8bse8k  https://i.redd.it/65bzzioisir01.jpg   \n",
       "3                          50-0  6we7gp   https://i.redd.it/19c4ggoz0ciz.png   \n",
       "4                         Allow  7qbcqw  https://i.redd.it/qt5p8ozio0a01.png   \n",
       "5                *mild concern*  7szw80  https://i.redd.it/1cudu2jlgac01.jpg   \n",
       "6     I would kill myself again  7nxaqq  https://i.redd.it/cqtircwmtw701.png   \n",
       "7                    Conspiracy  7ep89z   https://i.redd.it/9gx2gd66ehzz.jpg   \n",
       "8             Justin Timberlake  7vbgih  https://i.redd.it/qq501hb3yae01.jpg   \n",
       "9                         Lit 🔥  6c13dg   https://i.redd.it/1zb3bomchdyy.jpg   \n",
       "10  Improvise. Adapt. Overcome.  74fa93   https://i.redd.it/ypelzg7uwzpz.jpg   \n",
       "\n",
       "   ocr_text                                      img_embedding  \\\n",
       "1         r  [0.47470057, 3.1894677, 1.359018, 0.09152906, ...   \n",
       "2         W  [0.002120382, 1.1061459, 1.149819, 1.5612589, ...   \n",
       "3         H  [0.40099052, 1.3954234, 0.16197552, 2.6542144,...   \n",
       "4         i  [0.11146166, 0.35562772, 0.14314997, 0.0043752...   \n",
       "5         w  [0.78119, 1.921681, 0.53955406, 2.4841037, 1.1...   \n",
       "6         2  [0.3625772, 0.36763048, 0.7479718, 1.4109285, ...   \n",
       "7         M  [0.26197675, 1.7856048, 0.6354927, 0.64990205,...   \n",
       "8         Q  [1.2621086, 0.64310294, 0.5641967, 1.0983516, ...   \n",
       "9         \"  [1.354462, 1.3184816, 0.48951033, 0.7207344, 0...   \n",
       "10        m  [0.28811383, 0.16730404, 0.9405307, 1.7245754,...   \n",
       "\n",
       "                                          title_glove  \\\n",
       "1   [-0.07199854341442075, 0.0773735593669768, -0....   \n",
       "2   [0.012160748052920282, -0.03837562089045379, -...   \n",
       "3   [0.04570380842624913, -0.040621292753460665, -...   \n",
       "4   [-0.014267144310047065, -0.027631072981699447,...   \n",
       "5   [-0.04690530375468269, -0.055024448373724166, ...   \n",
       "6   [-0.013693546788499716, 0.0480856588712358, -0...   \n",
       "7   [0.0048729342408497175, -0.032625272503098414,...   \n",
       "8   [0.08559007356763464, 0.02754062131381438, 0.0...   \n",
       "9   [-0.02965367143258549, -0.05274808152269753, 0...   \n",
       "10  [0.0013496857503932263, 0.008868756760071836, ...   \n",
       "\n",
       "                                            ocr_glove  \\\n",
       "1   [-0.058076682938511204, -0.09807876561138369, ...   \n",
       "2   [-0.08078028445705333, 0.03380954679347381, -0...   \n",
       "3   [-0.012468797458529766, 0.030708376336418684, ...   \n",
       "4   [-0.019214471631711024, 0.02455295071924358, -...   \n",
       "5   [-0.08078028445705333, 0.03380954679347381, -0...   \n",
       "6   [-0.06418837450375463, 0.03480370320007013, -0...   \n",
       "7   [-0.01349829756600878, 0.06475009907870262, 0....   \n",
       "8   [0.06526505934091793, -0.009461739437502052, 0...   \n",
       "9   [nan, nan, nan, nan, nan, nan, nan, nan, nan, ...   \n",
       "10  [-0.01349829756600878, 0.06475009907870262, 0....   \n",
       "\n",
       "                                    fusion_text_glove       fusion_text  \n",
       "1   [-0.08158695288201284, -0.039476244612579155, ...  Black Monopoly B  \n",
       "2   [-0.05483938303667584, 0.003650542385628623, -...  Black Monopoly B  \n",
       "3   [0.026232055413328206, -0.009612910002507101, ...  Black Monopoly B  \n",
       "4   [-0.020915344166204174, 0.002202026657488687, ...  Black Monopoly B  \n",
       "5   [-0.10683859773771934, -0.0006983161319171384,...  Black Monopoly B  \n",
       "6   [-0.02859157773495234, 0.05204849599213456, -0...  Black Monopoly B  \n",
       "7   [-0.006161400462040778, 0.022730671727479265, ...  Black Monopoly B  \n",
       "8   [0.10364010807695737, 0.018511376554727288, 0....  Black Monopoly B  \n",
       "9   [-0.02965367143258549, -0.05274808152269753, 0...  Black Monopoly B  \n",
       "10  [-0.01349829756600878, 0.06475009907870262, 0....  Black Monopoly B  "
      ],
      "text/html": "<div>\n<style scoped>\n    .dataframe tbody tr th:only-of-type {\n        vertical-align: middle;\n    }\n\n    .dataframe tbody tr th {\n        vertical-align: top;\n    }\n\n    .dataframe thead th {\n        text-align: right;\n    }\n</style>\n<table border=\"1\" class=\"dataframe\">\n  <thead>\n    <tr style=\"text-align: right;\">\n      <th></th>\n      <th>title</th>\n      <th>id</th>\n      <th>media</th>\n      <th>ocr_text</th>\n      <th>img_embedding</th>\n      <th>title_glove</th>\n      <th>ocr_glove</th>\n      <th>fusion_text_glove</th>\n      <th>fusion_text</th>\n    </tr>\n  </thead>\n  <tbody>\n    <tr>\n      <th>1</th>\n      <td>Num🅱er One</td>\n      <td>6tehbc</td>\n      <td>https://i.redd.it/7wgs4dkiihfz.png</td>\n      <td>r</td>\n      <td>[0.47470057, 3.1894677, 1.359018, 0.09152906, ...</td>\n      <td>[-0.07199854341442075, 0.0773735593669768, -0....</td>\n      <td>[-0.058076682938511204, -0.09807876561138369, ...</td>\n      <td>[-0.08158695288201284, -0.039476244612579155, ...</td>\n      <td>Black Monopoly B</td>\n    </tr>\n    <tr>\n      <th>2</th>\n      <td>Got ‘em</td>\n      <td>8bse8k</td>\n      <td>https://i.redd.it/65bzzioisir01.jpg</td>\n      <td>W</td>\n      <td>[0.002120382, 1.1061459, 1.149819, 1.5612589, ...</td>\n      <td>[0.012160748052920282, -0.03837562089045379, -...</td>\n      <td>[-0.08078028445705333, 0.03380954679347381, -0...</td>\n      <td>[-0.05483938303667584, 0.003650542385628623, -...</td>\n      <td>Black Monopoly B</td>\n    </tr>\n    <tr>\n      <th>3</th>\n      <td>50-0</td>\n      <td>6we7gp</td>\n      <td>https://i.redd.it/19c4ggoz0ciz.png</td>\n      <td>H</td>\n      <td>[0.40099052, 1.3954234, 0.16197552, 2.6542144,...</td>\n      <td>[0.04570380842624913, -0.040621292753460665, -...</td>\n      <td>[-0.012468797458529766, 0.030708376336418684, ...</td>\n      <td>[0.026232055413328206, -0.009612910002507101, ...</td>\n      <td>Black Monopoly B</td>\n    </tr>\n    <tr>\n      <th>4</th>\n      <td>Allow</td>\n      <td>7qbcqw</td>\n      <td>https://i.redd.it/qt5p8ozio0a01.png</td>\n      <td>i</td>\n      <td>[0.11146166, 0.35562772, 0.14314997, 0.0043752...</td>\n      <td>[-0.014267144310047065, -0.027631072981699447,...</td>\n      <td>[-0.019214471631711024, 0.02455295071924358, -...</td>\n      <td>[-0.020915344166204174, 0.002202026657488687, ...</td>\n      <td>Black Monopoly B</td>\n    </tr>\n    <tr>\n      <th>5</th>\n      <td>*mild concern*</td>\n      <td>7szw80</td>\n      <td>https://i.redd.it/1cudu2jlgac01.jpg</td>\n      <td>w</td>\n      <td>[0.78119, 1.921681, 0.53955406, 2.4841037, 1.1...</td>\n      <td>[-0.04690530375468269, -0.055024448373724166, ...</td>\n      <td>[-0.08078028445705333, 0.03380954679347381, -0...</td>\n      <td>[-0.10683859773771934, -0.0006983161319171384,...</td>\n      <td>Black Monopoly B</td>\n    </tr>\n    <tr>\n      <th>6</th>\n      <td>I would kill myself again</td>\n      <td>7nxaqq</td>\n      <td>https://i.redd.it/cqtircwmtw701.png</td>\n      <td>2</td>\n      <td>[0.3625772, 0.36763048, 0.7479718, 1.4109285, ...</td>\n      <td>[-0.013693546788499716, 0.0480856588712358, -0...</td>\n      <td>[-0.06418837450375463, 0.03480370320007013, -0...</td>\n      <td>[-0.02859157773495234, 0.05204849599213456, -0...</td>\n      <td>Black Monopoly B</td>\n    </tr>\n    <tr>\n      <th>7</th>\n      <td>Conspiracy</td>\n      <td>7ep89z</td>\n      <td>https://i.redd.it/9gx2gd66ehzz.jpg</td>\n      <td>M</td>\n      <td>[0.26197675, 1.7856048, 0.6354927, 0.64990205,...</td>\n      <td>[0.0048729342408497175, -0.032625272503098414,...</td>\n      <td>[-0.01349829756600878, 0.06475009907870262, 0....</td>\n      <td>[-0.006161400462040778, 0.022730671727479265, ...</td>\n      <td>Black Monopoly B</td>\n    </tr>\n    <tr>\n      <th>8</th>\n      <td>Justin Timberlake</td>\n      <td>7vbgih</td>\n      <td>https://i.redd.it/qq501hb3yae01.jpg</td>\n      <td>Q</td>\n      <td>[1.2621086, 0.64310294, 0.5641967, 1.0983516, ...</td>\n      <td>[0.08559007356763464, 0.02754062131381438, 0.0...</td>\n      <td>[0.06526505934091793, -0.009461739437502052, 0...</td>\n      <td>[0.10364010807695737, 0.018511376554727288, 0....</td>\n      <td>Black Monopoly B</td>\n    </tr>\n    <tr>\n      <th>9</th>\n      <td>Lit 🔥</td>\n      <td>6c13dg</td>\n      <td>https://i.redd.it/1zb3bomchdyy.jpg</td>\n      <td>\"</td>\n      <td>[1.354462, 1.3184816, 0.48951033, 0.7207344, 0...</td>\n      <td>[-0.02965367143258549, -0.05274808152269753, 0...</td>\n      <td>[nan, nan, nan, nan, nan, nan, nan, nan, nan, ...</td>\n      <td>[-0.02965367143258549, -0.05274808152269753, 0...</td>\n      <td>Black Monopoly B</td>\n    </tr>\n    <tr>\n      <th>10</th>\n      <td>Improvise. Adapt. Overcome.</td>\n      <td>74fa93</td>\n      <td>https://i.redd.it/ypelzg7uwzpz.jpg</td>\n      <td>m</td>\n      <td>[0.28811383, 0.16730404, 0.9405307, 1.7245754,...</td>\n      <td>[0.0013496857503932263, 0.008868756760071836, ...</td>\n      <td>[-0.01349829756600878, 0.06475009907870262, 0....</td>\n      <td>[-0.01349829756600878, 0.06475009907870262, 0....</td>\n      <td>Black Monopoly B</td>\n    </tr>\n  </tbody>\n</table>\n</div>"
     },
     "metadata": {},
     "execution_count": 38
    }
   ],
   "source": [
    "df['title_glove'] = df['title'].apply(lambda x: sv.encode(x))\n",
    "\n",
    "# df['ocr_glove'] = df['ocr_text'].apply(lambda x: sv.encode(x[0]))\n",
    "for idx, row in df.iterrows():\n",
    "    try:\n",
    "        df['ocr_text'][idx] = row['ocr_text']\n",
    "        df['ocr_glove'][idx] = sv.encode(row['ocr_text'])\n",
    "    except:\n",
    "        df['ocr_text'][idx] = ' '\n",
    "        df['ocr_glove'][idx] = np.zeros([300])\n",
    "\n",
    "# df['fusion_text'] = df.apply(lambda x: x['title'] + ' ' + x['ocr_text'][0])\n",
    "# df['fusion_text_glove'] = df['fusion_text'].apply(lambda x: sv.encode(x))\n",
    "for idx, row in df.iterrows():\n",
    "    try:\n",
    "        text = row['title'] + ' ' + row['ocr_text']\n",
    "        df['fusion_text'] = text\n",
    "        df['fusion_text_glove'][idx] = sv.encode(text)\n",
    "    except:\n",
    "        df['fusion_text'] = row['title']\n",
    "        df['fusion_text_glove'][idx] = np.zeros([300])\n",
    "\n",
    "df.head(10)"
   ]
  },
  {
   "cell_type": "code",
   "execution_count": 43,
   "metadata": {},
   "outputs": [],
   "source": [
    "df = df.drop(columns=['title_embedding', 'ocr_embedding', 'fusion_text_embedding'])"
   ]
  },
  {
   "cell_type": "code",
   "execution_count": 44,
   "metadata": {},
   "outputs": [
    {
     "output_type": "execute_result",
     "data": {
      "text/plain": [
       "                          title      id                                media  \\\n",
       "1                    Num🅱er One  6tehbc   https://i.redd.it/7wgs4dkiihfz.png   \n",
       "2                       Got ‘em  8bse8k  https://i.redd.it/65bzzioisir01.jpg   \n",
       "3                          50-0  6we7gp   https://i.redd.it/19c4ggoz0ciz.png   \n",
       "4                         Allow  7qbcqw  https://i.redd.it/qt5p8ozio0a01.png   \n",
       "5                *mild concern*  7szw80  https://i.redd.it/1cudu2jlgac01.jpg   \n",
       "6     I would kill myself again  7nxaqq  https://i.redd.it/cqtircwmtw701.png   \n",
       "7                    Conspiracy  7ep89z   https://i.redd.it/9gx2gd66ehzz.jpg   \n",
       "8             Justin Timberlake  7vbgih  https://i.redd.it/qq501hb3yae01.jpg   \n",
       "9                         Lit 🔥  6c13dg   https://i.redd.it/1zb3bomchdyy.jpg   \n",
       "10  Improvise. Adapt. Overcome.  74fa93   https://i.redd.it/ypelzg7uwzpz.jpg   \n",
       "\n",
       "                                             ocr_text  \\\n",
       "1   [rleurope 1h ruvis u/batteries-included \"Life ...   \n",
       "2   [When Reddit is making fun of Mark Zuckerberg ...   \n",
       "3   [How to make millions Damn wish I could read F...   \n",
       "4   [is it norma to have a 15 inch penis Google Se...   \n",
       "5   [when re an npc and you see the player quicksa...   \n",
       "6   [2 imagine killing urself just to end up in a ...   \n",
       "7   [Microtransactions in games Micro transactions...   \n",
       "8   [Q 9 who is justin timl Google who is justin t...   \n",
       "9   [\"Excuse me where's the lobby?\" \"Idk but the l...   \n",
       "10  [meni You dont Know: how To Make when memes Ov...   \n",
       "\n",
       "                                        img_embedding  \\\n",
       "1   [0.47470057, 3.1894677, 1.359018, 0.09152906, ...   \n",
       "2   [0.002120382, 1.1061459, 1.149819, 1.5612589, ...   \n",
       "3   [0.40099052, 1.3954234, 0.16197552, 2.6542144,...   \n",
       "4   [0.11146166, 0.35562772, 0.14314997, 0.0043752...   \n",
       "5   [0.78119, 1.921681, 0.53955406, 2.4841037, 1.1...   \n",
       "6   [0.3625772, 0.36763048, 0.7479718, 1.4109285, ...   \n",
       "7   [0.26197675, 1.7856048, 0.6354927, 0.64990205,...   \n",
       "8   [1.2621086, 0.64310294, 0.5641967, 1.0983516, ...   \n",
       "9   [1.354462, 1.3184816, 0.48951033, 0.7207344, 0...   \n",
       "10  [0.28811383, 0.16730404, 0.9405307, 1.7245754,...   \n",
       "\n",
       "                                          title_glove  \\\n",
       "1   [-0.07199854341442075, 0.0773735593669768, -0....   \n",
       "2   [0.012160748052920282, -0.03837562089045379, -...   \n",
       "3   [0.04570380842624913, -0.040621292753460665, -...   \n",
       "4   [-0.014267144310047065, -0.027631072981699447,...   \n",
       "5   [-0.04690530375468269, -0.055024448373724166, ...   \n",
       "6   [-0.013693546788499716, 0.0480856588712358, -0...   \n",
       "7   [0.0048729342408497175, -0.032625272503098414,...   \n",
       "8   [0.08559007356763464, 0.02754062131381438, 0.0...   \n",
       "9   [-0.02965367143258549, -0.05274808152269753, 0...   \n",
       "10  [0.0013496857503932263, 0.008868756760071836, ...   \n",
       "\n",
       "                                            ocr_glove  \\\n",
       "1   [-0.03253846936098761, -0.021829422793741483, ...   \n",
       "2   [-0.043908957304537595, 0.0026559019682615413,...   \n",
       "3   [-0.052404932677483466, 0.024177834791048673, ...   \n",
       "4   [-0.08672669096490747, -0.014195494539243032, ...   \n",
       "5   [-0.014015999862818299, 0.05802771491249412, 0...   \n",
       "6   [-0.04539344077337367, 0.0475500850589299, -0....   \n",
       "7   [-0.08507857516319223, 0.057100194241089704, 0...   \n",
       "8   [-0.0037676744774116267, 0.028327919885476727,...   \n",
       "9   [-0.033030197021384475, 0.014560649002300828, ...   \n",
       "10  [-0.021123843749864778, -0.016384720426450602,...   \n",
       "\n",
       "                                    fusion_text_glove  \n",
       "1   [-0.04115979942813921, -0.007370811909021254, ...  \n",
       "2   [-0.039113712115749266, -0.002397845134246288,...  \n",
       "3   [-0.047197070413993424, 0.018980333617313987, ...  \n",
       "4   [-0.08250420629898565, -0.01593113608817573, -...  \n",
       "5   [-0.024548113590612593, 0.05073777657968644, -...  \n",
       "6   [-0.038474636610454034, 0.051813190364034506, ...  \n",
       "7   [-0.07721234610241666, 0.04493450504624606, -0...  \n",
       "8   [0.011130662968484924, 0.0298554611781323, 0.0...  \n",
       "9   [-0.0519897545681474, 0.013238237013960784, 0....  \n",
       "10  [-0.021123843749864778, -0.016384720426450602,...  "
      ],
      "text/html": "<div>\n<style scoped>\n    .dataframe tbody tr th:only-of-type {\n        vertical-align: middle;\n    }\n\n    .dataframe tbody tr th {\n        vertical-align: top;\n    }\n\n    .dataframe thead th {\n        text-align: right;\n    }\n</style>\n<table border=\"1\" class=\"dataframe\">\n  <thead>\n    <tr style=\"text-align: right;\">\n      <th></th>\n      <th>title</th>\n      <th>id</th>\n      <th>media</th>\n      <th>ocr_text</th>\n      <th>img_embedding</th>\n      <th>title_glove</th>\n      <th>ocr_glove</th>\n      <th>fusion_text_glove</th>\n    </tr>\n  </thead>\n  <tbody>\n    <tr>\n      <th>1</th>\n      <td>Num🅱er One</td>\n      <td>6tehbc</td>\n      <td>https://i.redd.it/7wgs4dkiihfz.png</td>\n      <td>[rleurope 1h ruvis u/batteries-included \"Life ...</td>\n      <td>[0.47470057, 3.1894677, 1.359018, 0.09152906, ...</td>\n      <td>[-0.07199854341442075, 0.0773735593669768, -0....</td>\n      <td>[-0.03253846936098761, -0.021829422793741483, ...</td>\n      <td>[-0.04115979942813921, -0.007370811909021254, ...</td>\n    </tr>\n    <tr>\n      <th>2</th>\n      <td>Got ‘em</td>\n      <td>8bse8k</td>\n      <td>https://i.redd.it/65bzzioisir01.jpg</td>\n      <td>[When Reddit is making fun of Mark Zuckerberg ...</td>\n      <td>[0.002120382, 1.1061459, 1.149819, 1.5612589, ...</td>\n      <td>[0.012160748052920282, -0.03837562089045379, -...</td>\n      <td>[-0.043908957304537595, 0.0026559019682615413,...</td>\n      <td>[-0.039113712115749266, -0.002397845134246288,...</td>\n    </tr>\n    <tr>\n      <th>3</th>\n      <td>50-0</td>\n      <td>6we7gp</td>\n      <td>https://i.redd.it/19c4ggoz0ciz.png</td>\n      <td>[How to make millions Damn wish I could read F...</td>\n      <td>[0.40099052, 1.3954234, 0.16197552, 2.6542144,...</td>\n      <td>[0.04570380842624913, -0.040621292753460665, -...</td>\n      <td>[-0.052404932677483466, 0.024177834791048673, ...</td>\n      <td>[-0.047197070413993424, 0.018980333617313987, ...</td>\n    </tr>\n    <tr>\n      <th>4</th>\n      <td>Allow</td>\n      <td>7qbcqw</td>\n      <td>https://i.redd.it/qt5p8ozio0a01.png</td>\n      <td>[is it norma to have a 15 inch penis Google Se...</td>\n      <td>[0.11146166, 0.35562772, 0.14314997, 0.0043752...</td>\n      <td>[-0.014267144310047065, -0.027631072981699447,...</td>\n      <td>[-0.08672669096490747, -0.014195494539243032, ...</td>\n      <td>[-0.08250420629898565, -0.01593113608817573, -...</td>\n    </tr>\n    <tr>\n      <th>5</th>\n      <td>*mild concern*</td>\n      <td>7szw80</td>\n      <td>https://i.redd.it/1cudu2jlgac01.jpg</td>\n      <td>[when re an npc and you see the player quicksa...</td>\n      <td>[0.78119, 1.921681, 0.53955406, 2.4841037, 1.1...</td>\n      <td>[-0.04690530375468269, -0.055024448373724166, ...</td>\n      <td>[-0.014015999862818299, 0.05802771491249412, 0...</td>\n      <td>[-0.024548113590612593, 0.05073777657968644, -...</td>\n    </tr>\n    <tr>\n      <th>6</th>\n      <td>I would kill myself again</td>\n      <td>7nxaqq</td>\n      <td>https://i.redd.it/cqtircwmtw701.png</td>\n      <td>[2 imagine killing urself just to end up in a ...</td>\n      <td>[0.3625772, 0.36763048, 0.7479718, 1.4109285, ...</td>\n      <td>[-0.013693546788499716, 0.0480856588712358, -0...</td>\n      <td>[-0.04539344077337367, 0.0475500850589299, -0....</td>\n      <td>[-0.038474636610454034, 0.051813190364034506, ...</td>\n    </tr>\n    <tr>\n      <th>7</th>\n      <td>Conspiracy</td>\n      <td>7ep89z</td>\n      <td>https://i.redd.it/9gx2gd66ehzz.jpg</td>\n      <td>[Microtransactions in games Micro transactions...</td>\n      <td>[0.26197675, 1.7856048, 0.6354927, 0.64990205,...</td>\n      <td>[0.0048729342408497175, -0.032625272503098414,...</td>\n      <td>[-0.08507857516319223, 0.057100194241089704, 0...</td>\n      <td>[-0.07721234610241666, 0.04493450504624606, -0...</td>\n    </tr>\n    <tr>\n      <th>8</th>\n      <td>Justin Timberlake</td>\n      <td>7vbgih</td>\n      <td>https://i.redd.it/qq501hb3yae01.jpg</td>\n      <td>[Q 9 who is justin timl Google who is justin t...</td>\n      <td>[1.2621086, 0.64310294, 0.5641967, 1.0983516, ...</td>\n      <td>[0.08559007356763464, 0.02754062131381438, 0.0...</td>\n      <td>[-0.0037676744774116267, 0.028327919885476727,...</td>\n      <td>[0.011130662968484924, 0.0298554611781323, 0.0...</td>\n    </tr>\n    <tr>\n      <th>9</th>\n      <td>Lit 🔥</td>\n      <td>6c13dg</td>\n      <td>https://i.redd.it/1zb3bomchdyy.jpg</td>\n      <td>[\"Excuse me where's the lobby?\" \"Idk but the l...</td>\n      <td>[1.354462, 1.3184816, 0.48951033, 0.7207344, 0...</td>\n      <td>[-0.02965367143258549, -0.05274808152269753, 0...</td>\n      <td>[-0.033030197021384475, 0.014560649002300828, ...</td>\n      <td>[-0.0519897545681474, 0.013238237013960784, 0....</td>\n    </tr>\n    <tr>\n      <th>10</th>\n      <td>Improvise. Adapt. Overcome.</td>\n      <td>74fa93</td>\n      <td>https://i.redd.it/ypelzg7uwzpz.jpg</td>\n      <td>[meni You dont Know: how To Make when memes Ov...</td>\n      <td>[0.28811383, 0.16730404, 0.9405307, 1.7245754,...</td>\n      <td>[0.0013496857503932263, 0.008868756760071836, ...</td>\n      <td>[-0.021123843749864778, -0.016384720426450602,...</td>\n      <td>[-0.021123843749864778, -0.016384720426450602,...</td>\n    </tr>\n  </tbody>\n</table>\n</div>"
     },
     "metadata": {},
     "execution_count": 44
    }
   ],
   "source": [
    "# Save embeddings in binary format\n",
    "index_name = os.path.join('api', 'images', 'index_4.df')\n",
    "df.to_pickle(index_name)\n",
    "\n",
    "df.head(10)"
   ]
  },
  {
   "cell_type": "code",
   "execution_count": 13,
   "metadata": {},
   "outputs": [
    {
     "output_type": "execute_result",
     "data": {
      "text/plain": [
       "                          title      id                                media  \\\n",
       "1                    Num🅱er One  6tehbc   https://i.redd.it/7wgs4dkiihfz.png   \n",
       "2                       Got ‘em  8bse8k  https://i.redd.it/65bzzioisir01.jpg   \n",
       "3                          50-0  6we7gp   https://i.redd.it/19c4ggoz0ciz.png   \n",
       "4                         Allow  7qbcqw  https://i.redd.it/qt5p8ozio0a01.png   \n",
       "5                *mild concern*  7szw80  https://i.redd.it/1cudu2jlgac01.jpg   \n",
       "6     I would kill myself again  7nxaqq  https://i.redd.it/cqtircwmtw701.png   \n",
       "7                    Conspiracy  7ep89z   https://i.redd.it/9gx2gd66ehzz.jpg   \n",
       "8             Justin Timberlake  7vbgih  https://i.redd.it/qq501hb3yae01.jpg   \n",
       "9                         Lit 🔥  6c13dg   https://i.redd.it/1zb3bomchdyy.jpg   \n",
       "10  Improvise. Adapt. Overcome.  74fa93   https://i.redd.it/ypelzg7uwzpz.jpg   \n",
       "\n",
       "                                             ocr_text  \\\n",
       "1   [rleurope 1h ruvis u/batteries-included \"Life ...   \n",
       "2   [When Reddit is making fun of Mark Zuckerberg ...   \n",
       "3   [How to make millions Damn wish I could read F...   \n",
       "4   [is it norma to have a 15 inch penis Google Se...   \n",
       "5   [when re an npc and you see the player quicksa...   \n",
       "6   [2 imagine killing urself just to end up in a ...   \n",
       "7   [Microtransactions in games Micro transactions...   \n",
       "8   [Q 9 who is justin timl Google who is justin t...   \n",
       "9   [\"Excuse me where's the lobby?\" \"Idk but the l...   \n",
       "10  [meni You dont Know: how To Make when memes Ov...   \n",
       "\n",
       "                                        img_embedding  \\\n",
       "1   [0.47470057, 3.1894677, 1.359018, 0.09152906, ...   \n",
       "2   [0.002120382, 1.1061459, 1.149819, 1.5612589, ...   \n",
       "3   [0.40099052, 1.3954234, 0.16197552, 2.6542144,...   \n",
       "4   [0.11146166, 0.35562772, 0.14314997, 0.0043752...   \n",
       "5   [0.78119, 1.921681, 0.53955406, 2.4841037, 1.1...   \n",
       "6   [0.3625772, 0.36763048, 0.7479718, 1.4109285, ...   \n",
       "7   [0.26197675, 1.7856048, 0.6354927, 0.64990205,...   \n",
       "8   [1.2621086, 0.64310294, 0.5641967, 1.0983516, ...   \n",
       "9   [1.354462, 1.3184816, 0.48951033, 0.7207344, 0...   \n",
       "10  [0.28811383, 0.16730404, 0.9405307, 1.7245754,...   \n",
       "\n",
       "                                          title_glove  \\\n",
       "1   [-0.07199854341442075, 0.0773735593669768, -0....   \n",
       "2   [0.012160748052920282, -0.03837562089045379, -...   \n",
       "3   [0.04570380842624913, -0.040621292753460665, -...   \n",
       "4   [-0.014267144310047065, -0.027631072981699447,...   \n",
       "5   [-0.04690530375468269, -0.055024448373724166, ...   \n",
       "6   [-0.013693546788499716, 0.0480856588712358, -0...   \n",
       "7   [0.0048729342408497175, -0.032625272503098414,...   \n",
       "8   [0.08559007356763464, 0.02754062131381438, 0.0...   \n",
       "9   [-0.02965367143258549, -0.05274808152269753, 0...   \n",
       "10  [0.0013496857503932263, 0.008868756760071836, ...   \n",
       "\n",
       "                                            ocr_glove  \\\n",
       "1   [-0.03253846936098761, -0.021829422793741483, ...   \n",
       "2   [-0.043908957304537595, 0.0026559019682615413,...   \n",
       "3   [-0.052404932677483466, 0.024177834791048673, ...   \n",
       "4   [-0.08672669096490747, -0.014195494539243032, ...   \n",
       "5   [-0.014015999862818299, 0.05802771491249412, 0...   \n",
       "6   [-0.04539344077337367, 0.0475500850589299, -0....   \n",
       "7   [-0.08507857516319223, 0.057100194241089704, 0...   \n",
       "8   [-0.0037676744774116267, 0.028327919885476727,...   \n",
       "9   [-0.033030197021384475, 0.014560649002300828, ...   \n",
       "10  [-0.021123843749864778, -0.016384720426450602,...   \n",
       "\n",
       "                                    fusion_text_glove  \n",
       "1   [-0.04115979942813921, -0.007370811909021254, ...  \n",
       "2   [-0.039113712115749266, -0.002397845134246288,...  \n",
       "3   [-0.047197070413993424, 0.018980333617313987, ...  \n",
       "4   [-0.08250420629898565, -0.01593113608817573, -...  \n",
       "5   [-0.024548113590612593, 0.05073777657968644, -...  \n",
       "6   [-0.038474636610454034, 0.051813190364034506, ...  \n",
       "7   [-0.07721234610241666, 0.04493450504624606, -0...  \n",
       "8   [0.011130662968484924, 0.0298554611781323, 0.0...  \n",
       "9   [-0.0519897545681474, 0.013238237013960784, 0....  \n",
       "10  [-0.021123843749864778, -0.016384720426450602,...  "
      ],
      "text/html": "<div>\n<style scoped>\n    .dataframe tbody tr th:only-of-type {\n        vertical-align: middle;\n    }\n\n    .dataframe tbody tr th {\n        vertical-align: top;\n    }\n\n    .dataframe thead th {\n        text-align: right;\n    }\n</style>\n<table border=\"1\" class=\"dataframe\">\n  <thead>\n    <tr style=\"text-align: right;\">\n      <th></th>\n      <th>title</th>\n      <th>id</th>\n      <th>media</th>\n      <th>ocr_text</th>\n      <th>img_embedding</th>\n      <th>title_glove</th>\n      <th>ocr_glove</th>\n      <th>fusion_text_glove</th>\n    </tr>\n  </thead>\n  <tbody>\n    <tr>\n      <th>1</th>\n      <td>Num🅱er One</td>\n      <td>6tehbc</td>\n      <td>https://i.redd.it/7wgs4dkiihfz.png</td>\n      <td>[rleurope 1h ruvis u/batteries-included \"Life ...</td>\n      <td>[0.47470057, 3.1894677, 1.359018, 0.09152906, ...</td>\n      <td>[-0.07199854341442075, 0.0773735593669768, -0....</td>\n      <td>[-0.03253846936098761, -0.021829422793741483, ...</td>\n      <td>[-0.04115979942813921, -0.007370811909021254, ...</td>\n    </tr>\n    <tr>\n      <th>2</th>\n      <td>Got ‘em</td>\n      <td>8bse8k</td>\n      <td>https://i.redd.it/65bzzioisir01.jpg</td>\n      <td>[When Reddit is making fun of Mark Zuckerberg ...</td>\n      <td>[0.002120382, 1.1061459, 1.149819, 1.5612589, ...</td>\n      <td>[0.012160748052920282, -0.03837562089045379, -...</td>\n      <td>[-0.043908957304537595, 0.0026559019682615413,...</td>\n      <td>[-0.039113712115749266, -0.002397845134246288,...</td>\n    </tr>\n    <tr>\n      <th>3</th>\n      <td>50-0</td>\n      <td>6we7gp</td>\n      <td>https://i.redd.it/19c4ggoz0ciz.png</td>\n      <td>[How to make millions Damn wish I could read F...</td>\n      <td>[0.40099052, 1.3954234, 0.16197552, 2.6542144,...</td>\n      <td>[0.04570380842624913, -0.040621292753460665, -...</td>\n      <td>[-0.052404932677483466, 0.024177834791048673, ...</td>\n      <td>[-0.047197070413993424, 0.018980333617313987, ...</td>\n    </tr>\n    <tr>\n      <th>4</th>\n      <td>Allow</td>\n      <td>7qbcqw</td>\n      <td>https://i.redd.it/qt5p8ozio0a01.png</td>\n      <td>[is it norma to have a 15 inch penis Google Se...</td>\n      <td>[0.11146166, 0.35562772, 0.14314997, 0.0043752...</td>\n      <td>[-0.014267144310047065, -0.027631072981699447,...</td>\n      <td>[-0.08672669096490747, -0.014195494539243032, ...</td>\n      <td>[-0.08250420629898565, -0.01593113608817573, -...</td>\n    </tr>\n    <tr>\n      <th>5</th>\n      <td>*mild concern*</td>\n      <td>7szw80</td>\n      <td>https://i.redd.it/1cudu2jlgac01.jpg</td>\n      <td>[when re an npc and you see the player quicksa...</td>\n      <td>[0.78119, 1.921681, 0.53955406, 2.4841037, 1.1...</td>\n      <td>[-0.04690530375468269, -0.055024448373724166, ...</td>\n      <td>[-0.014015999862818299, 0.05802771491249412, 0...</td>\n      <td>[-0.024548113590612593, 0.05073777657968644, -...</td>\n    </tr>\n    <tr>\n      <th>6</th>\n      <td>I would kill myself again</td>\n      <td>7nxaqq</td>\n      <td>https://i.redd.it/cqtircwmtw701.png</td>\n      <td>[2 imagine killing urself just to end up in a ...</td>\n      <td>[0.3625772, 0.36763048, 0.7479718, 1.4109285, ...</td>\n      <td>[-0.013693546788499716, 0.0480856588712358, -0...</td>\n      <td>[-0.04539344077337367, 0.0475500850589299, -0....</td>\n      <td>[-0.038474636610454034, 0.051813190364034506, ...</td>\n    </tr>\n    <tr>\n      <th>7</th>\n      <td>Conspiracy</td>\n      <td>7ep89z</td>\n      <td>https://i.redd.it/9gx2gd66ehzz.jpg</td>\n      <td>[Microtransactions in games Micro transactions...</td>\n      <td>[0.26197675, 1.7856048, 0.6354927, 0.64990205,...</td>\n      <td>[0.0048729342408497175, -0.032625272503098414,...</td>\n      <td>[-0.08507857516319223, 0.057100194241089704, 0...</td>\n      <td>[-0.07721234610241666, 0.04493450504624606, -0...</td>\n    </tr>\n    <tr>\n      <th>8</th>\n      <td>Justin Timberlake</td>\n      <td>7vbgih</td>\n      <td>https://i.redd.it/qq501hb3yae01.jpg</td>\n      <td>[Q 9 who is justin timl Google who is justin t...</td>\n      <td>[1.2621086, 0.64310294, 0.5641967, 1.0983516, ...</td>\n      <td>[0.08559007356763464, 0.02754062131381438, 0.0...</td>\n      <td>[-0.0037676744774116267, 0.028327919885476727,...</td>\n      <td>[0.011130662968484924, 0.0298554611781323, 0.0...</td>\n    </tr>\n    <tr>\n      <th>9</th>\n      <td>Lit 🔥</td>\n      <td>6c13dg</td>\n      <td>https://i.redd.it/1zb3bomchdyy.jpg</td>\n      <td>[\"Excuse me where's the lobby?\" \"Idk but the l...</td>\n      <td>[1.354462, 1.3184816, 0.48951033, 0.7207344, 0...</td>\n      <td>[-0.02965367143258549, -0.05274808152269753, 0...</td>\n      <td>[-0.033030197021384475, 0.014560649002300828, ...</td>\n      <td>[-0.0519897545681474, 0.013238237013960784, 0....</td>\n    </tr>\n    <tr>\n      <th>10</th>\n      <td>Improvise. Adapt. Overcome.</td>\n      <td>74fa93</td>\n      <td>https://i.redd.it/ypelzg7uwzpz.jpg</td>\n      <td>[meni You dont Know: how To Make when memes Ov...</td>\n      <td>[0.28811383, 0.16730404, 0.9405307, 1.7245754,...</td>\n      <td>[0.0013496857503932263, 0.008868756760071836, ...</td>\n      <td>[-0.021123843749864778, -0.016384720426450602,...</td>\n      <td>[-0.021123843749864778, -0.016384720426450602,...</td>\n    </tr>\n  </tbody>\n</table>\n</div>"
     },
     "metadata": {},
     "execution_count": 13
    }
   ],
   "source": [
    "index_name = os.path.join('api', 'images', 'index_4.df')\n",
    "df = pd.read_pickle(index_name)\n",
    "# df['ocr_text'] = df['ocr_text'].apply(lambda x: x[0])\n",
    "df.head(10)"
   ]
  },
  {
   "cell_type": "code",
   "execution_count": 39,
   "metadata": {},
   "outputs": [
    {
     "output_type": "stream",
     "name": "stdout",
     "text": [
      "(1, 300)\n(3226, 300)\n[(567, array([0.57720867])), (47, array([0.63592501])), (1494, array([0.66522023])), (1484, array([0.67241691])), (816, array([0.67504543])), (1003, array([0.69269142])), (925, array([0.69282552])), (5, array([0.69317641])), (950, array([0.69598756])), (17, array([0.69672299]))]\n"
     ]
    },
    {
     "output_type": "execute_result",
     "data": {
      "text/plain": [
       "                                                  title      id  \\\n",
       "568   They wanted to make sure the next person knew ...  7yqr9s   \n",
       "48    If you outlaw emojis, then only outlaws will h...  7bdel6   \n",
       "1495  AutoMod told me I needed a longer title so her...  7v08v2   \n",
       "1485                             It could go either way  7vvroe   \n",
       "817                                      Who Would Win?  7wq7q4   \n",
       "1004            Because her husband will come at night.  84mn8q   \n",
       "926                    It will be the best company ever  7mefns   \n",
       "6                             I would kill myself again  7nxaqq   \n",
       "951                   they should make a movie together  72ritv   \n",
       "18    Now we know why this man became disloyal and d...  6xvwtf   \n",
       "\n",
       "                                    media ocr_text  \\\n",
       "568   https://i.redd.it/gzaropkzv8h01.jpg        S   \n",
       "48     https://i.redd.it/0ucizt92akwz.jpg        G   \n",
       "1495  https://i.redd.it/ao610n9ex0e01.jpg        W   \n",
       "1485  https://i.redd.it/6qura7ksbse01.jpg        M   \n",
       "817   https://i.redd.it/sn9lct7wyhf01.jpg        W   \n",
       "1004  https://i.redd.it/bfggexjeoxl01.jpg        H   \n",
       "926   https://i.redd.it/nbw2lxbm6g601.png        w   \n",
       "6     https://i.redd.it/cqtircwmtw701.png        2   \n",
       "951    https://i.redd.it/r0y75q8xqeoz.jpg        T   \n",
       "18        https://i.imgur.com/5FnBYPZ.jpg        1   \n",
       "\n",
       "                                          img_embedding  \\\n",
       "568   [0.90342027, 1.4105773, 1.1308568, 1.8778474, ...   \n",
       "48    [0.8733979, 1.4701654, 1.3850347, 2.7285836, 0...   \n",
       "1495  [0.0, 0.04075798, 0.6291934, 2.5670784, 0.0921...   \n",
       "1485  [0.7703749, 1.3478632, 1.7184458, 1.3303148, 0...   \n",
       "817   [0.96935314, 0.63193, 2.3049726, 1.694774, 1.0...   \n",
       "1004  [0.40093154, 1.377236, 0.5739363, 1.5687023, 0...   \n",
       "926   [0.2976423, 0.5465578, 0.20421335, 0.14275393,...   \n",
       "6     [0.3625772, 0.36763048, 0.7479718, 1.4109285, ...   \n",
       "951   [1.4994001, 1.8011785, 0.6891692, 1.1128241, 0...   \n",
       "18    [0.06091951, 1.4678813, 1.927265, 1.5361513, 0...   \n",
       "\n",
       "                                            title_glove  \\\n",
       "568   [-0.039380610307763804, 0.04451268421339465, -...   \n",
       "48    [-0.043652082027957, 0.05656749190009431, -0.0...   \n",
       "1495  [-0.04454200471795491, 0.01761353756650466, -0...   \n",
       "1485  [-0.02260652038032033, 0.030777697787893375, -...   \n",
       "817   [-0.03377124555349856, 0.10392549163526993, -0...   \n",
       "1004  [-0.03713070536764561, 0.040140007097916465, -...   \n",
       "926   [-0.02504020059189688, 0.07367622109522633, -0...   \n",
       "6     [-0.013693546788499716, 0.0480856588712358, -0...   \n",
       "951   [-0.04594625724939806, 0.03967583619100774, -0...   \n",
       "18    [-0.007854419870188091, 0.013179211552238917, ...   \n",
       "\n",
       "                                              ocr_glove  \\\n",
       "568   [0.05291583722080206, 0.008006591078363783, -0...   \n",
       "48    [-0.054981830958605704, 0.05101286884328031, -...   \n",
       "1495  [-0.08078028445705333, 0.03380954679347381, -0...   \n",
       "1485  [-0.01349829756600878, 0.06475009907870262, 0....   \n",
       "817   [-0.08078028445705333, 0.03380954679347381, -0...   \n",
       "1004  [-0.012468797458529766, 0.030708376336418684, ...   \n",
       "926   [-0.08078028445705333, 0.03380954679347381, -0...   \n",
       "6     [-0.06418837450375463, 0.03480370320007013, -0...   \n",
       "951   [-0.030284860237509263, -0.05703427457108378, ...   \n",
       "18    [-0.043685646831520965, 0.018671932267749543, ...   \n",
       "\n",
       "                                      fusion_text_glove       fusion_text  \n",
       "568   [-0.038335754597997596, 0.04185425269971279, -...  Black Monopoly B  \n",
       "48    [-0.053024919116297344, 0.06447448154270126, -...  Black Monopoly B  \n",
       "1495  [-0.06101810352326423, 0.022931072966784313, -...  Black Monopoly B  \n",
       "1485  [-0.024513387664758107, 0.046948917190067906, ...  Black Monopoly B  \n",
       "817   [-0.1038859429725868, 0.07591794150913247, -0....  Black Monopoly B  \n",
       "1004  [-0.049947662531000594, 0.049677907238595255, ...  Black Monopoly B  \n",
       "926   [-0.04262449873680249, 0.07844468281178187, -0...  Black Monopoly B  \n",
       "6     [-0.02859157773495234, 0.05204849599213456, -0...  Black Monopoly B  \n",
       "951   [-0.049246449782043115, 0.021755488897424874, ...  Black Monopoly B  \n",
       "18    [-0.02820026422657229, 0.012174876254864199, 0...  Black Monopoly B  "
      ],
      "text/html": "<div>\n<style scoped>\n    .dataframe tbody tr th:only-of-type {\n        vertical-align: middle;\n    }\n\n    .dataframe tbody tr th {\n        vertical-align: top;\n    }\n\n    .dataframe thead th {\n        text-align: right;\n    }\n</style>\n<table border=\"1\" class=\"dataframe\">\n  <thead>\n    <tr style=\"text-align: right;\">\n      <th></th>\n      <th>title</th>\n      <th>id</th>\n      <th>media</th>\n      <th>ocr_text</th>\n      <th>img_embedding</th>\n      <th>title_glove</th>\n      <th>ocr_glove</th>\n      <th>fusion_text_glove</th>\n      <th>fusion_text</th>\n    </tr>\n  </thead>\n  <tbody>\n    <tr>\n      <th>568</th>\n      <td>They wanted to make sure the next person knew ...</td>\n      <td>7yqr9s</td>\n      <td>https://i.redd.it/gzaropkzv8h01.jpg</td>\n      <td>S</td>\n      <td>[0.90342027, 1.4105773, 1.1308568, 1.8778474, ...</td>\n      <td>[-0.039380610307763804, 0.04451268421339465, -...</td>\n      <td>[0.05291583722080206, 0.008006591078363783, -0...</td>\n      <td>[-0.038335754597997596, 0.04185425269971279, -...</td>\n      <td>Black Monopoly B</td>\n    </tr>\n    <tr>\n      <th>48</th>\n      <td>If you outlaw emojis, then only outlaws will h...</td>\n      <td>7bdel6</td>\n      <td>https://i.redd.it/0ucizt92akwz.jpg</td>\n      <td>G</td>\n      <td>[0.8733979, 1.4701654, 1.3850347, 2.7285836, 0...</td>\n      <td>[-0.043652082027957, 0.05656749190009431, -0.0...</td>\n      <td>[-0.054981830958605704, 0.05101286884328031, -...</td>\n      <td>[-0.053024919116297344, 0.06447448154270126, -...</td>\n      <td>Black Monopoly B</td>\n    </tr>\n    <tr>\n      <th>1495</th>\n      <td>AutoMod told me I needed a longer title so her...</td>\n      <td>7v08v2</td>\n      <td>https://i.redd.it/ao610n9ex0e01.jpg</td>\n      <td>W</td>\n      <td>[0.0, 0.04075798, 0.6291934, 2.5670784, 0.0921...</td>\n      <td>[-0.04454200471795491, 0.01761353756650466, -0...</td>\n      <td>[-0.08078028445705333, 0.03380954679347381, -0...</td>\n      <td>[-0.06101810352326423, 0.022931072966784313, -...</td>\n      <td>Black Monopoly B</td>\n    </tr>\n    <tr>\n      <th>1485</th>\n      <td>It could go either way</td>\n      <td>7vvroe</td>\n      <td>https://i.redd.it/6qura7ksbse01.jpg</td>\n      <td>M</td>\n      <td>[0.7703749, 1.3478632, 1.7184458, 1.3303148, 0...</td>\n      <td>[-0.02260652038032033, 0.030777697787893375, -...</td>\n      <td>[-0.01349829756600878, 0.06475009907870262, 0....</td>\n      <td>[-0.024513387664758107, 0.046948917190067906, ...</td>\n      <td>Black Monopoly B</td>\n    </tr>\n    <tr>\n      <th>817</th>\n      <td>Who Would Win?</td>\n      <td>7wq7q4</td>\n      <td>https://i.redd.it/sn9lct7wyhf01.jpg</td>\n      <td>W</td>\n      <td>[0.96935314, 0.63193, 2.3049726, 1.694774, 1.0...</td>\n      <td>[-0.03377124555349856, 0.10392549163526993, -0...</td>\n      <td>[-0.08078028445705333, 0.03380954679347381, -0...</td>\n      <td>[-0.1038859429725868, 0.07591794150913247, -0....</td>\n      <td>Black Monopoly B</td>\n    </tr>\n    <tr>\n      <th>1004</th>\n      <td>Because her husband will come at night.</td>\n      <td>84mn8q</td>\n      <td>https://i.redd.it/bfggexjeoxl01.jpg</td>\n      <td>H</td>\n      <td>[0.40093154, 1.377236, 0.5739363, 1.5687023, 0...</td>\n      <td>[-0.03713070536764561, 0.040140007097916465, -...</td>\n      <td>[-0.012468797458529766, 0.030708376336418684, ...</td>\n      <td>[-0.049947662531000594, 0.049677907238595255, ...</td>\n      <td>Black Monopoly B</td>\n    </tr>\n    <tr>\n      <th>926</th>\n      <td>It will be the best company ever</td>\n      <td>7mefns</td>\n      <td>https://i.redd.it/nbw2lxbm6g601.png</td>\n      <td>w</td>\n      <td>[0.2976423, 0.5465578, 0.20421335, 0.14275393,...</td>\n      <td>[-0.02504020059189688, 0.07367622109522633, -0...</td>\n      <td>[-0.08078028445705333, 0.03380954679347381, -0...</td>\n      <td>[-0.04262449873680249, 0.07844468281178187, -0...</td>\n      <td>Black Monopoly B</td>\n    </tr>\n    <tr>\n      <th>6</th>\n      <td>I would kill myself again</td>\n      <td>7nxaqq</td>\n      <td>https://i.redd.it/cqtircwmtw701.png</td>\n      <td>2</td>\n      <td>[0.3625772, 0.36763048, 0.7479718, 1.4109285, ...</td>\n      <td>[-0.013693546788499716, 0.0480856588712358, -0...</td>\n      <td>[-0.06418837450375463, 0.03480370320007013, -0...</td>\n      <td>[-0.02859157773495234, 0.05204849599213456, -0...</td>\n      <td>Black Monopoly B</td>\n    </tr>\n    <tr>\n      <th>951</th>\n      <td>they should make a movie together</td>\n      <td>72ritv</td>\n      <td>https://i.redd.it/r0y75q8xqeoz.jpg</td>\n      <td>T</td>\n      <td>[1.4994001, 1.8011785, 0.6891692, 1.1128241, 0...</td>\n      <td>[-0.04594625724939806, 0.03967583619100774, -0...</td>\n      <td>[-0.030284860237509263, -0.05703427457108378, ...</td>\n      <td>[-0.049246449782043115, 0.021755488897424874, ...</td>\n      <td>Black Monopoly B</td>\n    </tr>\n    <tr>\n      <th>18</th>\n      <td>Now we know why this man became disloyal and d...</td>\n      <td>6xvwtf</td>\n      <td>https://i.imgur.com/5FnBYPZ.jpg</td>\n      <td>1</td>\n      <td>[0.06091951, 1.4678813, 1.927265, 1.5361513, 0...</td>\n      <td>[-0.007854419870188091, 0.013179211552238917, ...</td>\n      <td>[-0.043685646831520965, 0.018671932267749543, ...</td>\n      <td>[-0.02820026422657229, 0.012174876254864199, 0...</td>\n      <td>Black Monopoly B</td>\n    </tr>\n  </tbody>\n</table>\n</div>"
     },
     "metadata": {},
     "execution_count": 39
    }
   ],
   "source": [
    "query = 'who would win'\n",
    "count = 10\n",
    "query_embedding = sv.encode(query)\n",
    "\n",
    "XA = np.expand_dims(query_embedding, axis=0)\n",
    "print(XA.shape)\n",
    "\n",
    "XB = [np.expand_dims(row, axis=0) for row in df['fusion_text_glove']]\n",
    "XB = np.concatenate(XB, axis=0)\n",
    "print(XB.shape)\n",
    "\n",
    "scores = distance.cdist(XB, XA, metric='euclidean')\n",
    "similarity_scores = [(i,s) for i,s in enumerate(scores)]\n",
    "\n",
    "# Get Top K\n",
    "similarity_scores = sorted(similarity_scores, key=lambda x: x[1])\n",
    "similarity_scores = similarity_scores[0:count]\n",
    "\n",
    "# print(similarity_scores[0][1].shape)\n",
    "print(similarity_scores)\n",
    "\n",
    "# df_results = df.copy()\n",
    "# df_results['similarity'] = df_results['title_embedding'].apply(lambda x: distance.euclidean(query_embedding, x))\n",
    "# df_results = df_results.sort_values(by='similarity', ascending=True)\n",
    "\n",
    "# df_results = df_results.head(20)\n",
    "# df_results.head(20)\n",
    "\n",
    "# Retrieve the results (rows with corresponding indices)\n",
    "df_results = df.iloc[[x[0] for x in similarity_scores]]\n",
    "df_results.head(10)"
   ]
  },
  {
   "cell_type": "code",
   "execution_count": null,
   "metadata": {},
   "outputs": [],
   "source": []
  }
 ]
}